{
 "cells": [
  {
   "cell_type": "code",
   "execution_count": 1,
   "id": "d79070fa",
   "metadata": {},
   "outputs": [
    {
     "name": "stderr",
     "output_type": "stream",
     "text": [
      "C:\\Users\\jyoung\\Projects\\tennis_project\\tennis_model_predict.py:54: DtypeWarning: Columns (8,16) have mixed types. Specify dtype option on import or set low_memory=False.\n",
      "  df = pd.read_csv(f'{data_folder}/processed_apt_with_ts.csv', parse_dates=['tourney_date'])\n"
     ]
    }
   ],
   "source": [
    "from tennis_model_predict import get_model_win_proba\n",
    "\n",
    "from tennis_model_predict import general_elo_dict, hard_dict, ts_dict\n",
    "\n",
    "from elo_funcs import elo_predict"
   ]
  },
  {
   "cell_type": "code",
   "execution_count": 15,
   "id": "c99e71fa",
   "metadata": {},
   "outputs": [
    {
     "data": {
      "text/plain": [
       "0.34002927"
      ]
     },
     "execution_count": 15,
     "metadata": {},
     "output_type": "execute_result"
    }
   ],
   "source": [
    "get_model_win_proba(player_1='Constant Lestienne',\n",
    "                    player_2='Emil Ruusuvuori',\n",
    "                    surface='Hard',\n",
    "                    tourney_level='C',\n",
    "                    round_=5)"
   ]
  },
  {
   "cell_type": "code",
   "execution_count": 54,
   "id": "b596a0f0",
   "metadata": {},
   "outputs": [
    {
     "name": "stdout",
     "output_type": "stream",
     "text": [
      "Ramkumar Ramanathan\n"
     ]
    }
   ],
   "source": [
    "for x in ts_dict.keys():\n",
    "    if 'Ramanathan' in x:\n",
    "        print(x)"
   ]
  },
  {
   "cell_type": "code",
   "execution_count": null,
   "id": "4b34a14e",
   "metadata": {
    "collapsed": true
   },
   "outputs": [],
   "source": [
    "tourney_surface = 'Hard'\n",
    "tourney_level = 'A'\n",
    "tourney_round = 4\n",
    "\n",
    "player_pairs = []\n",
    "probas = []\n",
    "\n",
    "for pair in player_pairs:\n",
    "    proba = get_model_win_proba(player_1=pair[0],\n",
    "                                player_2=pair[1],\n",
    "                                surface=surface,\n",
    "                                tourney_level=tourney_level,\n",
    "                                round_=tourney_round)\n",
    "    probas.append(proba)\n"
   ]
  },
  {
   "cell_type": "code",
   "execution_count": 13,
   "id": "ffb6ae0b",
   "metadata": {},
   "outputs": [
    {
     "ename": "NameError",
     "evalue": "name 'general_elo_dict' is not defined",
     "output_type": "error",
     "traceback": [
      "\u001b[1;31m---------------------------------------------------------------------------\u001b[0m",
      "\u001b[1;31mNameError\u001b[0m                                 Traceback (most recent call last)",
      "\u001b[1;32m~\\AppData\\Local\\Temp\\ipykernel_2264\\1734030744.py\u001b[0m in \u001b[0;36m<module>\u001b[1;34m\u001b[0m\n\u001b[1;32m----> 1\u001b[1;33m \u001b[0mgeneral_elo_dict\u001b[0m\u001b[1;33m\u001b[0m\u001b[1;33m\u001b[0m\u001b[0m\n\u001b[0m",
      "\u001b[1;31mNameError\u001b[0m: name 'general_elo_dict' is not defined"
     ]
    }
   ],
   "source": [
    "general_elo_dict"
   ]
  },
  {
   "cell_type": "code",
   "execution_count": 20,
   "id": "7afa681a",
   "metadata": {},
   "outputs": [
    {
     "data": {
      "text/plain": [
       "0.671245029231464"
      ]
     },
     "execution_count": 20,
     "metadata": {},
     "output_type": "execute_result"
    }
   ],
   "source": [
    "elo_predict(hard_dict['Dominic Thiem'], hard_dict['Marin Cilic'])"
   ]
  },
  {
   "cell_type": "code",
   "execution_count": 33,
   "id": "f4adcd54",
   "metadata": {},
   "outputs": [
    {
     "data": {
      "text/plain": [
       "2359.1754152087015"
      ]
     },
     "execution_count": 33,
     "metadata": {},
     "output_type": "execute_result"
    }
   ],
   "source": [
    "hard_dict['Dominic Thiem']"
   ]
  },
  {
   "cell_type": "code",
   "execution_count": 34,
   "id": "1b0a3fc1",
   "metadata": {},
   "outputs": [
    {
     "data": {
      "text/plain": [
       "2235.171913381185"
      ]
     },
     "execution_count": 34,
     "metadata": {},
     "output_type": "execute_result"
    }
   ],
   "source": [
    "hard_dict['Marin Cilic']"
   ]
  },
  {
   "cell_type": "code",
   "execution_count": 37,
   "id": "e1ab1643",
   "metadata": {},
   "outputs": [
    {
     "data": {
      "text/plain": [
       "(571559, N(mu=3.096, sigma=0.254))"
      ]
     },
     "execution_count": 37,
     "metadata": {},
     "output_type": "execute_result"
    }
   ],
   "source": [
    "ts_dict['Dominic Thiem'][-1]"
   ]
  },
  {
   "cell_type": "code",
   "execution_count": 38,
   "id": "31e7ccd3",
   "metadata": {},
   "outputs": [
    {
     "data": {
      "text/plain": [
       "(571668, N(mu=3.244, sigma=0.258))"
      ]
     },
     "execution_count": 38,
     "metadata": {},
     "output_type": "execute_result"
    }
   ],
   "source": [
    "ts_dict['Marin Cilic'][-1]"
   ]
  },
  {
   "cell_type": "code",
   "execution_count": null,
   "id": "acef170a",
   "metadata": {},
   "outputs": [],
   "source": []
  }
 ],
 "metadata": {
  "kernelspec": {
   "display_name": "Python 3 (ipykernel)",
   "language": "python",
   "name": "python3"
  },
  "language_info": {
   "codemirror_mode": {
    "name": "ipython",
    "version": 3
   },
   "file_extension": ".py",
   "mimetype": "text/x-python",
   "name": "python",
   "nbconvert_exporter": "python",
   "pygments_lexer": "ipython3",
   "version": "3.9.13"
  }
 },
 "nbformat": 4,
 "nbformat_minor": 5
}
