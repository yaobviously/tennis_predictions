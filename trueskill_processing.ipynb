{
 "cells": [
  {
   "cell_type": "code",
   "execution_count": 1,
   "id": "3c29642f",
   "metadata": {},
   "outputs": [],
   "source": [
    "import pandas as pd\n",
    "import pickle\n",
    "import dill\n",
    "\n",
    "from trueskillthroughtime import Player, Game, History"
   ]
  },
  {
   "cell_type": "code",
   "execution_count": 2,
   "id": "1ee0ba79",
   "metadata": {},
   "outputs": [],
   "source": [
    "folder = \"C:/Users/jyoung/Projects/tennis_project/tennis_data/tennis_atp-master\"\n",
    "\n",
    "df_file = \"processed_apt.csv\"\n",
    "\n",
    "dict_file = \"trueskill_dict.pickle\""
   ]
  },
  {
   "cell_type": "code",
   "execution_count": 3,
   "id": "f84838bd",
   "metadata": {},
   "outputs": [
    {
     "name": "stderr",
     "output_type": "stream",
     "text": [
      "C:\\Users\\jyoung\\AppData\\Local\\Temp\\ipykernel_16904\\739988522.py:1: DtypeWarning: Columns (8,16) have mixed types. Specify dtype option on import or set low_memory=False.\n",
      "  df = pd.read_csv(f'{folder}/{df_file}')\n"
     ]
    },
    {
     "name": "stdout",
     "output_type": "stream",
     "text": [
      "(572775, 146)\n",
      "the last day in the df is: 2022-09-05\n"
     ]
    }
   ],
   "source": [
    "df = pd.read_csv(f'{folder}/{df_file}')\n",
    "\n",
    "print(df.shape)\n",
    "print(\"the last day in the df is:\", df.tourney_date.max())"
   ]
  },
  {
   "cell_type": "code",
   "execution_count": 5,
   "id": "581e1013",
   "metadata": {},
   "outputs": [],
   "source": [
    "# TrueSkill Through Time to working its magic\n",
    "\n",
    "columns = zip(df.winner_name, df.loser_name)\n",
    "\n",
    "composition = [[[winner], [loser]] for winner, loser in columns]\n",
    "\n",
    "true_skill_history = History(composition=composition,\n",
    "                             sigma=1.6,\n",
    "                             gamma=0.035)"
   ]
  },
  {
   "cell_type": "code",
   "execution_count": 8,
   "id": "1c9a6e7d",
   "metadata": {},
   "outputs": [],
   "source": [
    "ts_dict = true_skill_history.learning_curves()"
   ]
  },
  {
   "cell_type": "code",
   "execution_count": 6,
   "id": "ff052970",
   "metadata": {},
   "outputs": [
    {
     "name": "stdout",
     "output_type": "stream",
     "text": [
      "Iteration =  0 , step =  (3.9066443759232747, 1.2479212223977658)\n",
      "Iteration =  1 , step =  (0.2717825815512125, 0.08589906548698023)\n",
      "Iteration =  2 , step =  (0.16198727776129918, 0.01286095868173942)\n",
      "Iteration =  3 , step =  (0.12428970333117428, 0.010692837054082194)\n",
      "Iteration =  4 , step =  (0.10795997852418449, 0.009608456347292682)\n",
      "Iteration =  5 , step =  (0.1007442210761682, 0.008990357157518059)\n",
      "Iteration =  6 , step =  (0.09559442759339554, 0.008492412337119726)\n",
      "Iteration =  7 , step =  (0.09029010514771585, 0.00804583476555809)\n",
      "Iteration =  8 , step =  (0.08509228234697996, 0.007626255621207889)\n",
      "Iteration =  9 , step =  (0.0801448092590542, 0.007225488289093418)\n",
      "End\n"
     ]
    },
    {
     "data": {
      "text/plain": [
       "((0.0801448092590542, 0.007225488289093418), 10)"
      ]
     },
     "execution_count": 6,
     "metadata": {},
     "output_type": "execute_result"
    }
   ],
   "source": [
    "# processing the histories\n",
    "\n",
    "true_skill_history.convergence(epsilon=0.01, iterations=10)"
   ]
  },
  {
   "cell_type": "code",
   "execution_count": 9,
   "id": "79f2b99c",
   "metadata": {},
   "outputs": [],
   "source": [
    "# # creating a dictionary to count how many times a player has appeared in the dataset\n",
    "match_count_dict = {name : 0 for name in ts_dict.keys()}\n",
    "\n",
    "# # extracting the dictionary containing each player's sequence of TrueSkill ratings\n",
    "# ts_dict = true_skill_history.learning_curves()\n",
    "\n",
    "ts_win_probs = []\n",
    "\n",
    "for winner, loser in zip(df.winner_name, df.loser_name):\n",
    "  \n",
    "  \n",
    "  try:\n",
    "    winner_idx = match_count_dict[winner]\n",
    "    loser_idx = match_count_dict[loser]\n",
    "\n",
    "    winner_player = Player(ts_dict[winner][winner_idx][1])\n",
    "    loser_player = Player(ts_dict[loser][loser_idx][1])\n",
    "    result = Game([[winner_player], [loser_player]]).evidence\n",
    "\n",
    "    ts_win_probs.append(result)\n",
    "  \n",
    "    match_count_dict[winner] += 1\n",
    "    match_count_dict[loser] += 1\n",
    "\n",
    "  except:\n",
    "    ts_win_probs.append(0.5)\n",
    "\n",
    "\n",
    "df['winner_ts_win_prob'] = ts_win_probs"
   ]
  },
  {
   "cell_type": "code",
   "execution_count": 10,
   "id": "ce57688c",
   "metadata": {},
   "outputs": [],
   "source": [
    "# saving the ts dictionary\n",
    "\n",
    "dict_file = \"trueskill_dict.pickle\"\n",
    "\n",
    "with open(f'{folder}/{dict_file}', 'wb') as handle:\n",
    "    dill.dump(ts_dict, handle, protocol=pickle.HIGHEST_PROTOCOL)"
   ]
  },
  {
   "cell_type": "code",
   "execution_count": 11,
   "id": "65f01a60",
   "metadata": {},
   "outputs": [],
   "source": [
    "df.to_csv(f'{folder}/processed_apt_with_ts.csv', index=False)"
   ]
  },
  {
   "cell_type": "code",
   "execution_count": null,
   "id": "00309e2f",
   "metadata": {},
   "outputs": [],
   "source": []
  }
 ],
 "metadata": {
  "kernelspec": {
   "display_name": "Python 3 (ipykernel)",
   "language": "python",
   "name": "python3"
  },
  "language_info": {
   "codemirror_mode": {
    "name": "ipython",
    "version": 3
   },
   "file_extension": ".py",
   "mimetype": "text/x-python",
   "name": "python",
   "nbconvert_exporter": "python",
   "pygments_lexer": "ipython3",
   "version": "3.9.13"
  }
 },
 "nbformat": 4,
 "nbformat_minor": 5
}
