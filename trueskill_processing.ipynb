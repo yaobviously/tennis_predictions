{
 "cells": [
  {
   "cell_type": "code",
   "execution_count": 1,
   "id": "3c29642f",
   "metadata": {},
   "outputs": [],
   "source": [
    "import pandas as pd\n",
    "import pickle\n",
    "import dill\n",
    "import numpy as np\n",
    "import math\n",
    "\n",
    "from trueskillthroughtime import Player, Game, History\n",
    "\n",
    "from sklearn.metrics import brier_score_loss, log_loss"
   ]
  },
  {
   "cell_type": "code",
   "execution_count": 2,
   "id": "1ee0ba79",
   "metadata": {},
   "outputs": [],
   "source": [
    "folder = \"C:/Users/jyoung/Projects/tennis_project/tennis_data/tennis_atp-master\"\n",
    "\n",
    "df_file = \"processed_apt.csv\"\n",
    "\n",
    "dict_file = \"trueskill_dict.pickle\""
   ]
  },
  {
   "cell_type": "code",
   "execution_count": 3,
   "id": "f84838bd",
   "metadata": {},
   "outputs": [
    {
     "name": "stderr",
     "output_type": "stream",
     "text": [
      "C:\\Users\\jyoung\\AppData\\Local\\Temp\\ipykernel_5652\\739988522.py:1: DtypeWarning: Columns (8,16) have mixed types. Specify dtype option on import or set low_memory=False.\n",
      "  df = pd.read_csv(f'{folder}/{df_file}')\n"
     ]
    },
    {
     "name": "stdout",
     "output_type": "stream",
     "text": [
      "(579538, 146)\n",
      "the last day in the df is: 2022-11-14\n"
     ]
    }
   ],
   "source": [
    "df = pd.read_csv(f'{folder}/{df_file}')\n",
    "\n",
    "print(df.shape)\n",
    "print(\"the last day in the df is:\", df.tourney_date.max())"
   ]
  },
  {
   "cell_type": "code",
   "execution_count": 4,
   "id": "b2d5aadd",
   "metadata": {},
   "outputs": [],
   "source": [
    "# converting tournament dates to datetime objects\n",
    "times = pd.to_datetime(df['tourney_date'])\n",
    "\n",
    "# calculating days since the first day in the dataset\n",
    "# note: using actual days with TrueSkill turns out be worse \n",
    "# worse than simply using the index\n",
    "\n",
    "times = [(x - pd.to_datetime('2000-01-01')).days for x in times]"
   ]
  },
  {
   "cell_type": "code",
   "execution_count": 5,
   "id": "581e1013",
   "metadata": {},
   "outputs": [
    {
     "name": "stdout",
     "output_type": "stream",
     "text": [
      "-345912.0420518494\n"
     ]
    }
   ],
   "source": [
    "# TrueSkill Through Time to working its magic\n",
    "\n",
    "columns = zip(df.winner_name, df.loser_name)\n",
    "\n",
    "composition = [[[winner], [loser]] for winner, loser in columns]\n",
    "\n",
    "true_skill_history = History(composition=composition,\n",
    "                             sigma=1.6,\n",
    "                             gamma=0.107)\n",
    "\n",
    "print(true_skill_history.log_evidence())"
   ]
  },
  {
   "cell_type": "code",
   "execution_count": 10,
   "id": "9a99ad11",
   "metadata": {},
   "outputs": [
    {
     "name": "stdout",
     "output_type": "stream",
     "text": [
      "0.05 -344795.15790574765 0.5477298285751804\n",
      "0.056363636363636366 -344066.60438612517 0.5484269686257985\n",
      "0.06272727272727273 -343476.0461914203 0.5489927144504749\n",
      "0.06909090909090909 -343002.26215888205 0.5494470142841851\n",
      "0.07545454545454545 -342628.4263179383 0.5498057415888105\n",
      "0.08181818181818182 -342340.981241358 0.5500817288713742\n",
      "0.08818181818181818 -342128.8460357373 0.5502854970395542\n",
      "0.09454545454545454 -341982.84844937996 0.5504257800379911\n",
      "0.1009090909090909 -341895.3099037875 0.5505099093285943\n",
      "0.10727272727272727 -341859.73694622813 0.5505441005446488\n",
      "0.11363636363636363 -341870.58811101806 0.550533670640811\n",
      "0.12 -341923.09520285943 0.5504832047561662\n"
     ]
    }
   ],
   "source": [
    "# optimizing gamma\n",
    "\n",
    "gammas = np.linspace(0.05, 0.12, 12)\n",
    "\n",
    "for j in gammas:\n",
    "\n",
    "    true_skill_history = History(composition=composition,\n",
    "                         sigma=1.6,\n",
    "                         gamma=j)\n",
    "    evidence = true_skill_history.log_evidence()\n",
    "    \n",
    "    print(j, evidence, math.exp(evidence/true_skill_history.size))"
   ]
  },
  {
   "cell_type": "code",
   "execution_count": 6,
   "id": "9be2bf62",
   "metadata": {},
   "outputs": [
    {
     "name": "stdout",
     "output_type": "stream",
     "text": [
      "Iteration =  0 , step =  (3.70091268860161, 1.0748582562223121)\n",
      "Iteration =  1 , step =  (0.3632730034991545, 0.08242001609325778)\n",
      "Iteration =  2 , step =  (0.22510792789432577, 0.016388652814405935)\n",
      "Iteration =  3 , step =  (0.15995661247003934, 0.012968815395214328)\n",
      "Iteration =  4 , step =  (0.12588781769903035, 0.010715947165092388)\n",
      "Iteration =  5 , step =  (0.10930435168308028, 0.009182546383559309)\n",
      "Iteration =  6 , step =  (0.09789675706529355, 0.008109684694700858)\n",
      "Iteration =  7 , step =  (0.08840028716902548, 0.007273102072066662)\n",
      "Iteration =  8 , step =  (0.08187400663935307, 0.0065860769009968845)\n",
      "Iteration =  9 , step =  (0.07656414351253282, 0.006003993347694303)\n",
      "End\n",
      "-322922.06826504075\n"
     ]
    }
   ],
   "source": [
    "# processing the histories\n",
    "\n",
    "true_skill_history.convergence(epsilon=0.01, iterations=10)\n",
    "\n",
    "print(true_skill_history.log_evidence())"
   ]
  },
  {
   "cell_type": "code",
   "execution_count": 7,
   "id": "1c9a6e7d",
   "metadata": {},
   "outputs": [],
   "source": [
    "ts_dict = true_skill_history.learning_curves()"
   ]
  },
  {
   "cell_type": "code",
   "execution_count": 8,
   "id": "79f2b99c",
   "metadata": {},
   "outputs": [],
   "source": [
    "# creating a dictionary to count how many times a player has appeared in the dataset\n",
    "match_count_dict = {name : 0 for name in ts_dict.keys()}\n",
    "\n",
    "# extracting the dictionary containing each player's sequence of TrueSkill ratings\n",
    "\n",
    "ts_win_probs = []\n",
    "\n",
    "for winner, loser in zip(df.winner_name, df.loser_name):\n",
    "  \n",
    "  \n",
    "  try:\n",
    "    winner_idx = match_count_dict[winner]\n",
    "    loser_idx = match_count_dict[loser]\n",
    "\n",
    "    winner_player = Player(ts_dict[winner][winner_idx][1])\n",
    "    loser_player = Player(ts_dict[loser][loser_idx][1])\n",
    "    result = Game([[winner_player], [loser_player]]).evidence\n",
    "\n",
    "    ts_win_probs.append(result)\n",
    "  \n",
    "    match_count_dict[winner] += 1\n",
    "    match_count_dict[loser] += 1\n",
    "\n",
    "  except:\n",
    "    ts_win_probs.append(0.5)\n",
    "\n",
    "\n",
    "df['winner_ts_win_prob'] = ts_win_probs"
   ]
  },
  {
   "cell_type": "code",
   "execution_count": 9,
   "id": "d035f78e",
   "metadata": {},
   "outputs": [],
   "source": [
    "def true_skill_win_proba(player_1=None, player_2=None):\n",
    "\n",
    "  player_1 = Player(ts_dict[player_1][-1][1])\n",
    "  player_2 = Player(ts_dict[player_2][-1][1])\n",
    "\n",
    "  return Game([[player_1], [player_2]]).evidence"
   ]
  },
  {
   "cell_type": "code",
   "execution_count": 10,
   "id": "d749974a",
   "metadata": {},
   "outputs": [
    {
     "data": {
      "text/plain": [
       "0.4864514309127883"
      ]
     },
     "execution_count": 10,
     "metadata": {},
     "output_type": "execute_result"
    }
   ],
   "source": [
    "true_skill_win_proba('Matthias Bachinger', 'Gabriel Decamps')"
   ]
  },
  {
   "cell_type": "code",
   "execution_count": 12,
   "id": "ce57688c",
   "metadata": {},
   "outputs": [],
   "source": [
    "# saving the ts dictionary\n",
    "\n",
    "dict_file = \"trueskill_dict.pickle\"\n",
    "\n",
    "with open(f'{folder}/{dict_file}', 'wb') as handle:\n",
    "    dill.dump(ts_dict, handle, protocol=pickle.HIGHEST_PROTOCOL)"
   ]
  },
  {
   "cell_type": "code",
   "execution_count": 13,
   "id": "65f01a60",
   "metadata": {},
   "outputs": [],
   "source": [
    "df.to_csv(f'{folder}/processed_apt_with_ts.csv', index=False)"
   ]
  },
  {
   "cell_type": "code",
   "execution_count": null,
   "id": "86741e85",
   "metadata": {},
   "outputs": [],
   "source": []
  }
 ],
 "metadata": {
  "kernelspec": {
   "display_name": "Python 3 (ipykernel)",
   "language": "python",
   "name": "python3"
  },
  "language_info": {
   "codemirror_mode": {
    "name": "ipython",
    "version": 3
   },
   "file_extension": ".py",
   "mimetype": "text/x-python",
   "name": "python",
   "nbconvert_exporter": "python",
   "pygments_lexer": "ipython3",
   "version": "3.9.13"
  }
 },
 "nbformat": 4,
 "nbformat_minor": 5
}
